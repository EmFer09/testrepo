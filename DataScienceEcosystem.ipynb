{
 "cells": [
  {
   "cell_type": "markdown",
   "id": "1a893eb8-d177-45bf-9c4b-a2949360040c",
   "metadata": {},
   "source": [
    "#  Data Science Tools and Ecosystem"
   ]
  },
  {
   "cell_type": "markdown",
   "id": "85fe1d19-417a-4454-991c-e8e6b75a3126",
   "metadata": {},
   "source": [
    "## Author\n",
    "Emiliana Fernández"
   ]
  },
  {
   "cell_type": "markdown",
   "id": "08502970-1b3c-4421-a9e8-a90ab00f3e98",
   "metadata": {},
   "source": [
    "In this notebook, Data Science Tools and Ecosystem are summarized"
   ]
  },
  {
   "cell_type": "markdown",
   "id": "c722835c-545a-490d-98c7-645213393449",
   "metadata": {},
   "source": [
    "**Objectives:**\n",
    "* List popular languages data scientits use\n",
    "* List popular libraries and tools data scientists need\n",
    "* Show how code works and solves simple arthmetic equations"
   ]
  },
  {
   "cell_type": "markdown",
   "id": "facf5056-541a-4aae-9c6a-952eb98b3009",
   "metadata": {},
   "source": [
    "Some of the popular languages that Data Scientists use are:\n",
    "\n",
    "1. Python\n",
    "2. R\n",
    "3. Java"
   ]
  },
  {
   "cell_type": "markdown",
   "id": "6efe586a-3b3f-4591-a6b8-f9a43e69574f",
   "metadata": {},
   "source": [
    "Some of the commonly used libraries used by Data Scientists include:\n",
    "\n",
    "1. Pandas\n",
    "2. Numpy\n",
    "3. Plotly"
   ]
  },
  {
   "cell_type": "markdown",
   "id": "3986de9f-0cd3-4106-bb8f-f04a356c5769",
   "metadata": {},
   "source": [
    "| Data Science Tools |\n",
    "|--------------------|\n",
    "|Apache Spark        |\n",
    "|Matplotlib          |\n",
    "|Tensorflow          |"
   ]
  },
  {
   "cell_type": "markdown",
   "id": "45f027e7-d894-4788-abc3-1deec2096eac",
   "metadata": {},
   "source": [
    "### Below are a few examples of evaluating arithmetic expressions in Python:"
   ]
  },
  {
   "cell_type": "code",
   "execution_count": 3,
   "id": "7c3f8c4e-3e85-4fbe-81d5-353867448432",
   "metadata": {},
   "outputs": [
    {
     "data": {
      "text/plain": [
       "17"
      ]
     },
     "execution_count": 3,
     "metadata": {},
     "output_type": "execute_result"
    }
   ],
   "source": [
    "# This is an example of a simple arithmetic equation:\n",
    "(3*4)+5"
   ]
  },
  {
   "cell_type": "code",
   "execution_count": 4,
   "id": "6de11c6b-f4be-42bf-930c-6575cae4355d",
   "metadata": {},
   "outputs": [
    {
     "data": {
      "text/plain": [
       "3.3333333333333335"
      ]
     },
     "execution_count": 4,
     "metadata": {},
     "output_type": "execute_result"
    }
   ],
   "source": [
    "# In this example we will convert 200 minutes into hours:\n",
    "200/60"
   ]
  },
  {
   "cell_type": "code",
   "execution_count": null,
   "id": "8ee7de8e-3f44-4668-9f03-77910ff9d690",
   "metadata": {},
   "outputs": [],
   "source": []
  }
 ],
 "metadata": {
  "kernelspec": {
   "display_name": "Python 3 (ipykernel)",
   "language": "python",
   "name": "python3"
  },
  "language_info": {
   "codemirror_mode": {
    "name": "ipython",
    "version": 3
   },
   "file_extension": ".py",
   "mimetype": "text/x-python",
   "name": "python",
   "nbconvert_exporter": "python",
   "pygments_lexer": "ipython3",
   "version": "3.11.9"
  }
 },
 "nbformat": 4,
 "nbformat_minor": 5
}
